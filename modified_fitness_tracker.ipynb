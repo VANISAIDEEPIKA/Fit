{
    "cells": [
        {
            "cell_type": "markdown",
            "metadata": {},
            "source": [
                "# \ud83c\udfcb\ufe0f\u200d\u2642\ufe0f Personal Fitness Tracker - Data Analysis & Model Training\n",
                "This notebook explores the fitness tracker dataset, performs data preprocessing, and trains models for calorie prediction."
            ]
        },
        {
            "cell_type": "code",
            "execution_count": null,
            "metadata": {},
            "outputs": [],
            "source": [
                "# Importing necessary libraries\n",
                "import pandas as pd\n",
                "import numpy as np\n",
                "import matplotlib.pyplot as plt\n",
                "import seaborn as sns\n",
                "import plotly.express as px\n",
                "from sklearn.model_selection import train_test_split\n",
                "from sklearn.ensemble import RandomForestRegressor\n",
                "from sklearn.metrics import mean_absolute_error, r2_score"
            ]
        },
        {
            "cell_type": "code",
            "execution_count": null,
            "metadata": {},
            "outputs": [],
            "source": [
                "# Load the datasets\n",
                "calories_data = pd.read_csv('calories.csv')\n",
                "exercise_data = pd.read_csv('exercise.csv')\n",
                "\n",
                "# Merge datasets\n",
                "data = pd.merge(exercise_data, calories_data, on='User_ID')\n",
                "data.head()"
            ]
        },
        {
            "cell_type": "markdown",
            "metadata": {},
            "source": [
                "## \ud83d\udcca Data Visualization"
            ]
        },
        {
            "cell_type": "code",
            "execution_count": null,
            "metadata": {},
            "outputs": [],
            "source": [
                "# Scatter plot of Exercise Duration vs Calories Burned\n",
                "fig = px.scatter(data, x='Duration', y='Calories_Burned', color='BMI', title='Duration vs Calories Burned')\n",
                "fig.show()"
            ]
        },
        {
            "cell_type": "markdown",
            "metadata": {},
            "source": [
                "## \ud83c\udfd7\ufe0f Model Training & Evaluation"
            ]
        },
        {
            "cell_type": "code",
            "execution_count": null,
            "metadata": {},
            "outputs": [],
            "source": [
                "# Prepare data for model training\n",
                "X = data[['Age', 'BMI', 'Duration', 'Heart_Rate']]\n",
                "y = data['Calories_Burned']\n",
                "X_train, X_test, y_train, y_test = train_test_split(X, y, test_size=0.2, random_state=42)\n",
                "\n",
                "# Train RandomForest model\n",
                "model = RandomForestRegressor(n_estimators=100, random_state=42)\n",
                "model.fit(X_train, y_train)\n",
                "\n",
                "# Predictions\n",
                "y_pred = model.predict(X_test)\n",
                "\n",
                "# Model Performance\n",
                "mae = mean_absolute_error(y_test, y_pred)\n",
                "r2 = r2_score(y_test, y_pred)\n",
                "print(f'Mean Absolute Error: {mae:.2f}')\n",
                "print(f'R-squared Score: {r2:.2f}')"
            ]
        }
    ],
    "metadata": {
        "kernelspec": {
            "display_name": "Python 3",
            "language": "python",
            "name": "python3"
        },
        "language_info": {
            "codemirror_mode": {
                "name": "ipython",
                "version": 3
            },
            "file_extension": ".py",
            "mimetype": "text/x-python",
            "name": "python",
            "nbconvert_exporter": "python",
            "pygments_lexer": "ipython3",
            "version": "3.8.10"
        }
    },
    "nbformat": 4,
    "nbformat_minor": 4
}